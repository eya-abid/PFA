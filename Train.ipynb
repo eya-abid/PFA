{
 "cells": [
  {
   "cell_type": "code",
   "execution_count": 3,
   "metadata": {},
   "outputs": [],
   "source": [
    "# Generates a string (the name of a sequence) from an int value\n",
    "def sequence(number):\n",
    "    number = str(number)\n",
    "    if len(number) == 1:\n",
    "        number = '00' + number\n",
    "    elif len(number) == 2:\n",
    "        number = '0' + number\n",
    "    name = 'SEQ'+number\n",
    "    return name"
   ]
  },
  {
   "cell_type": "code",
   "execution_count": 14,
   "metadata": {},
   "outputs": [],
   "source": [
    "# reads the frame's filename and returns the corresponding number\n",
    "def frame_number(frame):\n",
    "    nb = int(frame[5:frame.index('.')])\n",
    "    return nb"
   ]
  },
  {
   "cell_type": "code",
   "execution_count": 42,
   "metadata": {},
   "outputs": [],
   "source": [
    "# labels a frame f using a dataframe df\n",
    "def label(f,df):\n",
    "    a = 0\n",
    "    if '2PB' in df.index:\n",
    "            if float(df.loc['2PB'] != 0) and not(isnan(float(df.loc['2PB']))):\n",
    "                x = ceil(12*float(df.loc['2PB']))\n",
    "                if x<=f:\n",
    "                    a = 1\n",
    "    if '1PN' in df.index:\n",
    "            if float(df.loc['1PN'] != 0) and not(isnan(float(df.loc['1PN']))):\n",
    "                x = ceil(12*float(df.loc['1PN']))\n",
    "                if x<=f:\n",
    "                    a = 2\n",
    "    if '2PN' in df.index:\n",
    "            if float(df.loc['2PN'] != 0) and not(isnan(float(df.loc['2PN']))):\n",
    "                x = ceil(12*float(df.loc['2PN']))\n",
    "                if x<=f:\n",
    "                    a = 2\n",
    "    if '3PN' in df.index:\n",
    "            if float(df.loc['3PN'] != 0) and not(isnan(float(df.loc['3PN']))):\n",
    "                x = ceil(12*float(df.loc['3PN']))\n",
    "                if x<=f:\n",
    "                    a = 2\n",
    "    return a"
   ]
  },
  {
   "cell_type": "code",
   "execution_count": 51,
   "metadata": {},
   "outputs": [
    {
     "name": "stdout",
     "output_type": "stream",
     "text": [
      "[0, 0, 0, 0, 0, 0, 0, 1, 1, 1, 1, 1, 1, 1, 1, 1, 1, 1, 1, 1]\n"
     ]
    }
   ],
   "source": [
    "import os\n",
    "import pandas as pd\n",
    "from math import ceil, isnan\n",
    "import cv2\n",
    "\n",
    "DATA_DIR = r'C:\\Users\\oussamaJB\\Desktop\\Hospital data'\n",
    "N_SAMPLE = 186\n",
    "\n",
    "X = []\n",
    "Y = []\n",
    "\n",
    "for index in range(N_SAMPLE):\n",
    "    seq = sequence(index+1)\n",
    "    df = pd.read_csv(DATA_DIR+'\\\\'+seq+'.csv',header=None,index_col=0)\n",
    "    frames = os.listdir(DATA_DIR+'\\\\'+seq)\n",
    "    images = [ cv2.cvtColor(cv2.imread(DATA_DIR+'\\\\'+seq+'\\\\'+f),cv2.COLOR_BGR2GRAY) for f in frames]\n",
    "    X.append(images)\n",
    "    frames = [ frame_number(frame) for frame in frames]\n",
    "    frames.sort()\n",
    "    annots = []\n",
    "    for f in frames:\n",
    "        annots.append(label(f,df))\n",
    "    Y.append(annots)\n",
    "    \n",
    "    \n",
    "    # Data augmentation\n",
    "    rot90 = [ cv2.rotate(img, cv2.ROTATE_90_CLOCKWISE) for img in images ]\n",
    "    X.append(rot90)\n",
    "    rot90c = [ cv2.rotate(img, cv2.ROTATE_90_COUNTERCLOCKWISE) for img in images ]\n",
    "    X.append(rot90c)\n",
    "    flipv = [ cv2.flip(img, 0) for img in images ]\n",
    "    X.append(flipv)\n",
    "    fliph = [ cv2.flip(img, 1) for img in images ]\n",
    "    X.append(fliph)\n",
    "    for i in range(4):\n",
    "        Y.append(annots)\n",
    "\n",
    "    '''cv2.imwrite('{}.jpg'.format('0'),images[0])\n",
    "    cv2.imwrite('{}.jpg'.format('1'),rot90[0])\n",
    "    cv2.imwrite('{}.jpg'.format('2'),rot90c[0])\n",
    "    cv2.imwrite('{}.jpg'.format('3'),flipv[0])\n",
    "    cv2.imwrite('{}.jpg'.format('4'),fliph[0])'''\n",
    "    \n",
    "    #print(images[0].shape)\n",
    "    #print(index)\n",
    "    #print(frames)\n",
    "    #print(annots)\n",
    "    \n",
    "    \n",
    "\n",
    "\n"
   ]
  },
  {
   "cell_type": "code",
   "execution_count": 52,
   "metadata": {},
   "outputs": [
    {
     "data": {
      "text/plain": [
       "125"
      ]
     },
     "execution_count": 52,
     "metadata": {},
     "output_type": "execute_result"
    }
   ],
   "source": [
    "frame_number('frame125.jpg')"
   ]
  },
  {
   "cell_type": "code",
   "execution_count": 34,
   "metadata": {},
   "outputs": [
    {
     "data": {
      "text/plain": [
       "Index([nan, '2PB', '1PN', '2PN', '3PN', 'PNf'], dtype='object', name=0)"
      ]
     },
     "execution_count": 34,
     "metadata": {},
     "output_type": "execute_result"
    }
   ],
   "source": [
    "df.index"
   ]
  },
  {
   "cell_type": "code",
   "execution_count": null,
   "metadata": {},
   "outputs": [],
   "source": []
  }
 ],
 "metadata": {
  "kernelspec": {
   "display_name": "Python 3",
   "language": "python",
   "name": "python3"
  },
  "language_info": {
   "codemirror_mode": {
    "name": "ipython",
    "version": 3
   },
   "file_extension": ".py",
   "mimetype": "text/x-python",
   "name": "python",
   "nbconvert_exporter": "python",
   "pygments_lexer": "ipython3",
   "version": "3.8.5"
  }
 },
 "nbformat": 4,
 "nbformat_minor": 4
}
